{
 "cells": [
  {
   "cell_type": "markdown",
   "id": "7c7177b8",
   "metadata": {},
   "source": [
    "$Introduction$\n",
    "\n",
    "In this project I  investigated  appoinment records for Brasil public hospitals. The dataset is downloaded from Google and it includes some attributes of patients and state if the patients showed up to appointments. \n",
    "\n",
    "The dataset can be downloaded here: https://www.kaggle.com/datasets/joniarroba/noshowappointments?resource=download\n",
    "\n",
    "Python tools used in this project to investigate the dataset include pandas, numpy and matplotlib."
   ]
  },
  {
   "cell_type": "code",
   "execution_count": 1,
   "id": "4dcbd39c",
   "metadata": {},
   "outputs": [],
   "source": [
    "#import libraries\n",
    "\n",
    "import pandas as pd\n",
    "import numpy as np\n",
    "import matplotlib.pyplot as plt\n",
    "%matplotlib inline"
   ]
  },
  {
   "cell_type": "code",
   "execution_count": 2,
   "id": "721aeeb7",
   "metadata": {
    "scrolled": true
   },
   "outputs": [
    {
     "data": {
      "text/html": [
       "<div>\n",
       "<style scoped>\n",
       "    .dataframe tbody tr th:only-of-type {\n",
       "        vertical-align: middle;\n",
       "    }\n",
       "\n",
       "    .dataframe tbody tr th {\n",
       "        vertical-align: top;\n",
       "    }\n",
       "\n",
       "    .dataframe thead th {\n",
       "        text-align: right;\n",
       "    }\n",
       "</style>\n",
       "<table border=\"1\" class=\"dataframe\">\n",
       "  <thead>\n",
       "    <tr style=\"text-align: right;\">\n",
       "      <th></th>\n",
       "      <th>PatientId</th>\n",
       "      <th>AppointmentID</th>\n",
       "      <th>Gender</th>\n",
       "      <th>ScheduledDay</th>\n",
       "      <th>AppointmentDay</th>\n",
       "      <th>Age</th>\n",
       "      <th>Neighbourhood</th>\n",
       "      <th>Scholarship</th>\n",
       "      <th>Hipertension</th>\n",
       "      <th>Diabetes</th>\n",
       "      <th>Alcoholism</th>\n",
       "      <th>Handcap</th>\n",
       "      <th>SMS_received</th>\n",
       "      <th>No-show</th>\n",
       "    </tr>\n",
       "  </thead>\n",
       "  <tbody>\n",
       "    <tr>\n",
       "      <th>0</th>\n",
       "      <td>2.987250e+13</td>\n",
       "      <td>5642903</td>\n",
       "      <td>F</td>\n",
       "      <td>2016-04-29T18:38:08Z</td>\n",
       "      <td>2016-04-29T00:00:00Z</td>\n",
       "      <td>62</td>\n",
       "      <td>JARDIM DA PENHA</td>\n",
       "      <td>0</td>\n",
       "      <td>1</td>\n",
       "      <td>0</td>\n",
       "      <td>0</td>\n",
       "      <td>0</td>\n",
       "      <td>0</td>\n",
       "      <td>No</td>\n",
       "    </tr>\n",
       "    <tr>\n",
       "      <th>1</th>\n",
       "      <td>5.589978e+14</td>\n",
       "      <td>5642503</td>\n",
       "      <td>M</td>\n",
       "      <td>2016-04-29T16:08:27Z</td>\n",
       "      <td>2016-04-29T00:00:00Z</td>\n",
       "      <td>56</td>\n",
       "      <td>JARDIM DA PENHA</td>\n",
       "      <td>0</td>\n",
       "      <td>0</td>\n",
       "      <td>0</td>\n",
       "      <td>0</td>\n",
       "      <td>0</td>\n",
       "      <td>0</td>\n",
       "      <td>No</td>\n",
       "    </tr>\n",
       "    <tr>\n",
       "      <th>2</th>\n",
       "      <td>4.262962e+12</td>\n",
       "      <td>5642549</td>\n",
       "      <td>F</td>\n",
       "      <td>2016-04-29T16:19:04Z</td>\n",
       "      <td>2016-04-29T00:00:00Z</td>\n",
       "      <td>62</td>\n",
       "      <td>MATA DA PRAIA</td>\n",
       "      <td>0</td>\n",
       "      <td>0</td>\n",
       "      <td>0</td>\n",
       "      <td>0</td>\n",
       "      <td>0</td>\n",
       "      <td>0</td>\n",
       "      <td>No</td>\n",
       "    </tr>\n",
       "    <tr>\n",
       "      <th>3</th>\n",
       "      <td>8.679512e+11</td>\n",
       "      <td>5642828</td>\n",
       "      <td>F</td>\n",
       "      <td>2016-04-29T17:29:31Z</td>\n",
       "      <td>2016-04-29T00:00:00Z</td>\n",
       "      <td>8</td>\n",
       "      <td>PONTAL DE CAMBURI</td>\n",
       "      <td>0</td>\n",
       "      <td>0</td>\n",
       "      <td>0</td>\n",
       "      <td>0</td>\n",
       "      <td>0</td>\n",
       "      <td>0</td>\n",
       "      <td>No</td>\n",
       "    </tr>\n",
       "    <tr>\n",
       "      <th>4</th>\n",
       "      <td>8.841186e+12</td>\n",
       "      <td>5642494</td>\n",
       "      <td>F</td>\n",
       "      <td>2016-04-29T16:07:23Z</td>\n",
       "      <td>2016-04-29T00:00:00Z</td>\n",
       "      <td>56</td>\n",
       "      <td>JARDIM DA PENHA</td>\n",
       "      <td>0</td>\n",
       "      <td>1</td>\n",
       "      <td>1</td>\n",
       "      <td>0</td>\n",
       "      <td>0</td>\n",
       "      <td>0</td>\n",
       "      <td>No</td>\n",
       "    </tr>\n",
       "  </tbody>\n",
       "</table>\n",
       "</div>"
      ],
      "text/plain": [
       "      PatientId  AppointmentID Gender          ScheduledDay  \\\n",
       "0  2.987250e+13        5642903      F  2016-04-29T18:38:08Z   \n",
       "1  5.589978e+14        5642503      M  2016-04-29T16:08:27Z   \n",
       "2  4.262962e+12        5642549      F  2016-04-29T16:19:04Z   \n",
       "3  8.679512e+11        5642828      F  2016-04-29T17:29:31Z   \n",
       "4  8.841186e+12        5642494      F  2016-04-29T16:07:23Z   \n",
       "\n",
       "         AppointmentDay  Age      Neighbourhood  Scholarship  Hipertension  \\\n",
       "0  2016-04-29T00:00:00Z   62    JARDIM DA PENHA            0             1   \n",
       "1  2016-04-29T00:00:00Z   56    JARDIM DA PENHA            0             0   \n",
       "2  2016-04-29T00:00:00Z   62      MATA DA PRAIA            0             0   \n",
       "3  2016-04-29T00:00:00Z    8  PONTAL DE CAMBURI            0             0   \n",
       "4  2016-04-29T00:00:00Z   56    JARDIM DA PENHA            0             1   \n",
       "\n",
       "   Diabetes  Alcoholism  Handcap  SMS_received No-show  \n",
       "0         0           0        0             0      No  \n",
       "1         0           0        0             0      No  \n",
       "2         0           0        0             0      No  \n",
       "3         0           0        0             0      No  \n",
       "4         1           0        0             0      No  "
      ]
     },
     "execution_count": 2,
     "metadata": {},
     "output_type": "execute_result"
    }
   ],
   "source": [
    "#read in data\n",
    "\n",
    "df = pd.read_csv('KaggleV2-May-2016.csv')\n",
    "df.head()"
   ]
  },
  {
   "cell_type": "markdown",
   "id": "b032caf9",
   "metadata": {},
   "source": [
    "$Question$\n",
    "\n",
    "\n",
    "1. Proportion of Patient's Gender that missed their scheduled appointment\n",
    "\n",
    "2 The Neighbourhood with highest show/no show patients\n",
    "\n",
    "3.The SMS_received proportion for show/no show and still \n"
   ]
  },
  {
   "cell_type": "code",
   "execution_count": 3,
   "id": "b814d14e",
   "metadata": {
    "scrolled": true
   },
   "outputs": [
    {
     "name": "stdout",
     "output_type": "stream",
     "text": [
      "<class 'pandas.core.frame.DataFrame'>\n",
      "RangeIndex: 110527 entries, 0 to 110526\n",
      "Data columns (total 14 columns):\n",
      " #   Column          Non-Null Count   Dtype  \n",
      "---  ------          --------------   -----  \n",
      " 0   PatientId       110527 non-null  float64\n",
      " 1   AppointmentID   110527 non-null  int64  \n",
      " 2   Gender          110527 non-null  object \n",
      " 3   ScheduledDay    110527 non-null  object \n",
      " 4   AppointmentDay  110527 non-null  object \n",
      " 5   Age             110527 non-null  int64  \n",
      " 6   Neighbourhood   110527 non-null  object \n",
      " 7   Scholarship     110527 non-null  int64  \n",
      " 8   Hipertension    110527 non-null  int64  \n",
      " 9   Diabetes        110527 non-null  int64  \n",
      " 10  Alcoholism      110527 non-null  int64  \n",
      " 11  Handcap         110527 non-null  int64  \n",
      " 12  SMS_received    110527 non-null  int64  \n",
      " 13  No-show         110527 non-null  object \n",
      "dtypes: float64(1), int64(8), object(5)\n",
      "memory usage: 11.8+ MB\n"
     ]
    }
   ],
   "source": [
    "#information about the dataset\n",
    "df.info()"
   ]
  },
  {
   "cell_type": "code",
   "execution_count": 4,
   "id": "92b1db2b",
   "metadata": {},
   "outputs": [
    {
     "data": {
      "text/plain": [
       "0"
      ]
     },
     "execution_count": 4,
     "metadata": {},
     "output_type": "execute_result"
    }
   ],
   "source": [
    "df.duplicated().sum()"
   ]
  },
  {
   "cell_type": "markdown",
   "id": "91ead313",
   "metadata": {},
   "source": [
    "$Observations$\n",
    "1. The dataset has 110527 samples with 14 attributes\n",
    "2. The datasets does not have any missing value\n",
    "3. There are no duplicates in the dataset\n",
    "4. ScheduledDay and AppointmentDay are of type object intead of Datetime"
   ]
  },
  {
   "cell_type": "code",
   "execution_count": 7,
   "id": "6676bcba",
   "metadata": {},
   "outputs": [
    {
     "data": {
      "text/plain": [
       "['ScheduledDay', 'AppointmentDay']"
      ]
     },
     "execution_count": 7,
     "metadata": {},
     "output_type": "execute_result"
    }
   ],
   "source": [
    "#get columns that need to be converted to datatime datatype\n",
    "to_date_type = [col for col in df.columns if 'Day' in col]\n",
    "to_date_type"
   ]
  },
  {
   "cell_type": "code",
   "execution_count": 8,
   "id": "3501e6bc",
   "metadata": {},
   "outputs": [],
   "source": [
    "#convert columns 'ScheduledDay' and 'AppointmentDay' to datetime\n",
    "for date_col in to_date_type:\n",
    "    df[date_col] = pd.to_datetime(df[date_col])"
   ]
  },
  {
   "cell_type": "code",
   "execution_count": 9,
   "id": "096626e7",
   "metadata": {},
   "outputs": [
    {
     "name": "stdout",
     "output_type": "stream",
     "text": [
      "<class 'pandas.core.frame.DataFrame'>\n",
      "RangeIndex: 110527 entries, 0 to 110526\n",
      "Data columns (total 14 columns):\n",
      " #   Column          Non-Null Count   Dtype              \n",
      "---  ------          --------------   -----              \n",
      " 0   PatientId       110527 non-null  float64            \n",
      " 1   AppointmentID   110527 non-null  int64              \n",
      " 2   Gender          110527 non-null  object             \n",
      " 3   ScheduledDay    110527 non-null  datetime64[ns, UTC]\n",
      " 4   AppointmentDay  110527 non-null  datetime64[ns, UTC]\n",
      " 5   Age             110527 non-null  int64              \n",
      " 6   Neighbourhood   110527 non-null  object             \n",
      " 7   Scholarship     110527 non-null  int64              \n",
      " 8   Hipertension    110527 non-null  int64              \n",
      " 9   Diabetes        110527 non-null  int64              \n",
      " 10  Alcoholism      110527 non-null  int64              \n",
      " 11  Handcap         110527 non-null  int64              \n",
      " 12  SMS_received    110527 non-null  int64              \n",
      " 13  No-show         110527 non-null  object             \n",
      "dtypes: datetime64[ns, UTC](2), float64(1), int64(8), object(3)\n",
      "memory usage: 11.8+ MB\n"
     ]
    }
   ],
   "source": [
    "df.info()"
   ]
  },
  {
   "cell_type": "code",
   "execution_count": 10,
   "id": "676fa377",
   "metadata": {},
   "outputs": [
    {
     "data": {
      "text/plain": [
       "2"
      ]
     },
     "execution_count": 10,
     "metadata": {},
     "output_type": "execute_result"
    }
   ],
   "source": [
    "len(to_date_type)"
   ]
  },
  {
   "cell_type": "code",
   "execution_count": 11,
   "id": "d6692ed6",
   "metadata": {},
   "outputs": [],
   "source": [
    "#getting the year, month and weekday of 'ScheduledDay' and 'AppointmentDay' columns\n",
    "for col in range(len(to_date_type)):\n",
    "    df[to_date_type[col][:-3]+'_year'] = df[to_date_type[col]].dt.year\n",
    "    df[to_date_type[col][:-3]+'_month'] = df[to_date_type[col]].dt.month\n",
    "    df[to_date_type[col][:-3]+'_weekday'] = df[to_date_type[col]].dt.weekday"
   ]
  },
  {
   "cell_type": "code",
   "execution_count": 12,
   "id": "0267a24e",
   "metadata": {
    "scrolled": true
   },
   "outputs": [
    {
     "data": {
      "text/html": [
       "<div>\n",
       "<style scoped>\n",
       "    .dataframe tbody tr th:only-of-type {\n",
       "        vertical-align: middle;\n",
       "    }\n",
       "\n",
       "    .dataframe tbody tr th {\n",
       "        vertical-align: top;\n",
       "    }\n",
       "\n",
       "    .dataframe thead th {\n",
       "        text-align: right;\n",
       "    }\n",
       "</style>\n",
       "<table border=\"1\" class=\"dataframe\">\n",
       "  <thead>\n",
       "    <tr style=\"text-align: right;\">\n",
       "      <th></th>\n",
       "      <th>PatientId</th>\n",
       "      <th>AppointmentID</th>\n",
       "      <th>Gender</th>\n",
       "      <th>ScheduledDay</th>\n",
       "      <th>AppointmentDay</th>\n",
       "      <th>Age</th>\n",
       "      <th>Neighbourhood</th>\n",
       "      <th>Scholarship</th>\n",
       "      <th>Hipertension</th>\n",
       "      <th>Diabetes</th>\n",
       "      <th>Alcoholism</th>\n",
       "      <th>Handcap</th>\n",
       "      <th>SMS_received</th>\n",
       "      <th>No-show</th>\n",
       "      <th>Scheduled_year</th>\n",
       "      <th>Scheduled_month</th>\n",
       "      <th>Scheduled_weekday</th>\n",
       "      <th>Appointment_year</th>\n",
       "      <th>Appointment_month</th>\n",
       "      <th>Appointment_weekday</th>\n",
       "    </tr>\n",
       "  </thead>\n",
       "  <tbody>\n",
       "    <tr>\n",
       "      <th>96508</th>\n",
       "      <td>7.879587e+12</td>\n",
       "      <td>5787721</td>\n",
       "      <td>F</td>\n",
       "      <td>2016-06-08 10:28:29+00:00</td>\n",
       "      <td>2016-06-08 00:00:00+00:00</td>\n",
       "      <td>1</td>\n",
       "      <td>JARDIM DA PENHA</td>\n",
       "      <td>0</td>\n",
       "      <td>0</td>\n",
       "      <td>0</td>\n",
       "      <td>0</td>\n",
       "      <td>0</td>\n",
       "      <td>0</td>\n",
       "      <td>No</td>\n",
       "      <td>2016</td>\n",
       "      <td>6</td>\n",
       "      <td>2</td>\n",
       "      <td>2016</td>\n",
       "      <td>6</td>\n",
       "      <td>2</td>\n",
       "    </tr>\n",
       "    <tr>\n",
       "      <th>49506</th>\n",
       "      <td>9.416235e+11</td>\n",
       "      <td>5701805</td>\n",
       "      <td>M</td>\n",
       "      <td>2016-05-16 11:02:59+00:00</td>\n",
       "      <td>2016-05-16 00:00:00+00:00</td>\n",
       "      <td>10</td>\n",
       "      <td>DO MOSCOSO</td>\n",
       "      <td>0</td>\n",
       "      <td>0</td>\n",
       "      <td>0</td>\n",
       "      <td>0</td>\n",
       "      <td>0</td>\n",
       "      <td>0</td>\n",
       "      <td>No</td>\n",
       "      <td>2016</td>\n",
       "      <td>5</td>\n",
       "      <td>0</td>\n",
       "      <td>2016</td>\n",
       "      <td>5</td>\n",
       "      <td>0</td>\n",
       "    </tr>\n",
       "    <tr>\n",
       "      <th>1276</th>\n",
       "      <td>8.655848e+14</td>\n",
       "      <td>5507702</td>\n",
       "      <td>F</td>\n",
       "      <td>2016-03-23 12:20:54+00:00</td>\n",
       "      <td>2016-04-29 00:00:00+00:00</td>\n",
       "      <td>15</td>\n",
       "      <td>JOANA D´ARC</td>\n",
       "      <td>0</td>\n",
       "      <td>0</td>\n",
       "      <td>1</td>\n",
       "      <td>0</td>\n",
       "      <td>0</td>\n",
       "      <td>1</td>\n",
       "      <td>Yes</td>\n",
       "      <td>2016</td>\n",
       "      <td>3</td>\n",
       "      <td>2</td>\n",
       "      <td>2016</td>\n",
       "      <td>4</td>\n",
       "      <td>4</td>\n",
       "    </tr>\n",
       "    <tr>\n",
       "      <th>66539</th>\n",
       "      <td>8.647144e+11</td>\n",
       "      <td>5675193</td>\n",
       "      <td>F</td>\n",
       "      <td>2016-05-09 13:18:59+00:00</td>\n",
       "      <td>2016-05-09 00:00:00+00:00</td>\n",
       "      <td>37</td>\n",
       "      <td>FORTE SÃO JOÃO</td>\n",
       "      <td>0</td>\n",
       "      <td>0</td>\n",
       "      <td>0</td>\n",
       "      <td>0</td>\n",
       "      <td>0</td>\n",
       "      <td>0</td>\n",
       "      <td>Yes</td>\n",
       "      <td>2016</td>\n",
       "      <td>5</td>\n",
       "      <td>0</td>\n",
       "      <td>2016</td>\n",
       "      <td>5</td>\n",
       "      <td>0</td>\n",
       "    </tr>\n",
       "    <tr>\n",
       "      <th>11148</th>\n",
       "      <td>5.144123e+11</td>\n",
       "      <td>5683008</td>\n",
       "      <td>M</td>\n",
       "      <td>2016-05-11 07:06:56+00:00</td>\n",
       "      <td>2016-05-11 00:00:00+00:00</td>\n",
       "      <td>26</td>\n",
       "      <td>RESISTÊNCIA</td>\n",
       "      <td>0</td>\n",
       "      <td>0</td>\n",
       "      <td>0</td>\n",
       "      <td>0</td>\n",
       "      <td>0</td>\n",
       "      <td>0</td>\n",
       "      <td>No</td>\n",
       "      <td>2016</td>\n",
       "      <td>5</td>\n",
       "      <td>2</td>\n",
       "      <td>2016</td>\n",
       "      <td>5</td>\n",
       "      <td>2</td>\n",
       "    </tr>\n",
       "    <tr>\n",
       "      <th>87388</th>\n",
       "      <td>1.535885e+13</td>\n",
       "      <td>5780854</td>\n",
       "      <td>F</td>\n",
       "      <td>2016-06-07 08:40:23+00:00</td>\n",
       "      <td>2016-06-07 00:00:00+00:00</td>\n",
       "      <td>33</td>\n",
       "      <td>UNIVERSITÁRIO</td>\n",
       "      <td>0</td>\n",
       "      <td>0</td>\n",
       "      <td>0</td>\n",
       "      <td>0</td>\n",
       "      <td>0</td>\n",
       "      <td>0</td>\n",
       "      <td>No</td>\n",
       "      <td>2016</td>\n",
       "      <td>6</td>\n",
       "      <td>1</td>\n",
       "      <td>2016</td>\n",
       "      <td>6</td>\n",
       "      <td>1</td>\n",
       "    </tr>\n",
       "    <tr>\n",
       "      <th>42930</th>\n",
       "      <td>4.466529e+14</td>\n",
       "      <td>5688565</td>\n",
       "      <td>M</td>\n",
       "      <td>2016-05-12 07:28:52+00:00</td>\n",
       "      <td>2016-05-12 00:00:00+00:00</td>\n",
       "      <td>0</td>\n",
       "      <td>TABUAZEIRO</td>\n",
       "      <td>0</td>\n",
       "      <td>0</td>\n",
       "      <td>0</td>\n",
       "      <td>0</td>\n",
       "      <td>0</td>\n",
       "      <td>0</td>\n",
       "      <td>No</td>\n",
       "      <td>2016</td>\n",
       "      <td>5</td>\n",
       "      <td>3</td>\n",
       "      <td>2016</td>\n",
       "      <td>5</td>\n",
       "      <td>3</td>\n",
       "    </tr>\n",
       "    <tr>\n",
       "      <th>72324</th>\n",
       "      <td>6.893657e+13</td>\n",
       "      <td>5690897</td>\n",
       "      <td>F</td>\n",
       "      <td>2016-05-12 10:52:50+00:00</td>\n",
       "      <td>2016-05-14 00:00:00+00:00</td>\n",
       "      <td>40</td>\n",
       "      <td>CARATOÍRA</td>\n",
       "      <td>0</td>\n",
       "      <td>1</td>\n",
       "      <td>0</td>\n",
       "      <td>0</td>\n",
       "      <td>0</td>\n",
       "      <td>0</td>\n",
       "      <td>No</td>\n",
       "      <td>2016</td>\n",
       "      <td>5</td>\n",
       "      <td>3</td>\n",
       "      <td>2016</td>\n",
       "      <td>5</td>\n",
       "      <td>5</td>\n",
       "    </tr>\n",
       "    <tr>\n",
       "      <th>85222</th>\n",
       "      <td>3.739694e+13</td>\n",
       "      <td>5790370</td>\n",
       "      <td>F</td>\n",
       "      <td>2016-06-08 18:28:35+00:00</td>\n",
       "      <td>2016-06-08 00:00:00+00:00</td>\n",
       "      <td>49</td>\n",
       "      <td>JARDIM CAMBURI</td>\n",
       "      <td>0</td>\n",
       "      <td>0</td>\n",
       "      <td>0</td>\n",
       "      <td>0</td>\n",
       "      <td>0</td>\n",
       "      <td>0</td>\n",
       "      <td>No</td>\n",
       "      <td>2016</td>\n",
       "      <td>6</td>\n",
       "      <td>2</td>\n",
       "      <td>2016</td>\n",
       "      <td>6</td>\n",
       "      <td>2</td>\n",
       "    </tr>\n",
       "    <tr>\n",
       "      <th>88180</th>\n",
       "      <td>8.511176e+14</td>\n",
       "      <td>5777499</td>\n",
       "      <td>F</td>\n",
       "      <td>2016-06-06 13:54:18+00:00</td>\n",
       "      <td>2016-06-06 00:00:00+00:00</td>\n",
       "      <td>53</td>\n",
       "      <td>JARDIM CAMBURI</td>\n",
       "      <td>0</td>\n",
       "      <td>0</td>\n",
       "      <td>0</td>\n",
       "      <td>0</td>\n",
       "      <td>0</td>\n",
       "      <td>0</td>\n",
       "      <td>No</td>\n",
       "      <td>2016</td>\n",
       "      <td>6</td>\n",
       "      <td>0</td>\n",
       "      <td>2016</td>\n",
       "      <td>6</td>\n",
       "      <td>0</td>\n",
       "    </tr>\n",
       "  </tbody>\n",
       "</table>\n",
       "</div>"
      ],
      "text/plain": [
       "          PatientId  AppointmentID Gender              ScheduledDay  \\\n",
       "96508  7.879587e+12        5787721      F 2016-06-08 10:28:29+00:00   \n",
       "49506  9.416235e+11        5701805      M 2016-05-16 11:02:59+00:00   \n",
       "1276   8.655848e+14        5507702      F 2016-03-23 12:20:54+00:00   \n",
       "66539  8.647144e+11        5675193      F 2016-05-09 13:18:59+00:00   \n",
       "11148  5.144123e+11        5683008      M 2016-05-11 07:06:56+00:00   \n",
       "87388  1.535885e+13        5780854      F 2016-06-07 08:40:23+00:00   \n",
       "42930  4.466529e+14        5688565      M 2016-05-12 07:28:52+00:00   \n",
       "72324  6.893657e+13        5690897      F 2016-05-12 10:52:50+00:00   \n",
       "85222  3.739694e+13        5790370      F 2016-06-08 18:28:35+00:00   \n",
       "88180  8.511176e+14        5777499      F 2016-06-06 13:54:18+00:00   \n",
       "\n",
       "                 AppointmentDay  Age    Neighbourhood  Scholarship  \\\n",
       "96508 2016-06-08 00:00:00+00:00    1  JARDIM DA PENHA            0   \n",
       "49506 2016-05-16 00:00:00+00:00   10       DO MOSCOSO            0   \n",
       "1276  2016-04-29 00:00:00+00:00   15      JOANA D´ARC            0   \n",
       "66539 2016-05-09 00:00:00+00:00   37   FORTE SÃO JOÃO            0   \n",
       "11148 2016-05-11 00:00:00+00:00   26      RESISTÊNCIA            0   \n",
       "87388 2016-06-07 00:00:00+00:00   33    UNIVERSITÁRIO            0   \n",
       "42930 2016-05-12 00:00:00+00:00    0       TABUAZEIRO            0   \n",
       "72324 2016-05-14 00:00:00+00:00   40        CARATOÍRA            0   \n",
       "85222 2016-06-08 00:00:00+00:00   49   JARDIM CAMBURI            0   \n",
       "88180 2016-06-06 00:00:00+00:00   53   JARDIM CAMBURI            0   \n",
       "\n",
       "       Hipertension  Diabetes  Alcoholism  Handcap  SMS_received No-show  \\\n",
       "96508             0         0           0        0             0      No   \n",
       "49506             0         0           0        0             0      No   \n",
       "1276              0         1           0        0             1     Yes   \n",
       "66539             0         0           0        0             0     Yes   \n",
       "11148             0         0           0        0             0      No   \n",
       "87388             0         0           0        0             0      No   \n",
       "42930             0         0           0        0             0      No   \n",
       "72324             1         0           0        0             0      No   \n",
       "85222             0         0           0        0             0      No   \n",
       "88180             0         0           0        0             0      No   \n",
       "\n",
       "       Scheduled_year  Scheduled_month  Scheduled_weekday  Appointment_year  \\\n",
       "96508            2016                6                  2              2016   \n",
       "49506            2016                5                  0              2016   \n",
       "1276             2016                3                  2              2016   \n",
       "66539            2016                5                  0              2016   \n",
       "11148            2016                5                  2              2016   \n",
       "87388            2016                6                  1              2016   \n",
       "42930            2016                5                  3              2016   \n",
       "72324            2016                5                  3              2016   \n",
       "85222            2016                6                  2              2016   \n",
       "88180            2016                6                  0              2016   \n",
       "\n",
       "       Appointment_month  Appointment_weekday  \n",
       "96508                  6                    2  \n",
       "49506                  5                    0  \n",
       "1276                   4                    4  \n",
       "66539                  5                    0  \n",
       "11148                  5                    2  \n",
       "87388                  6                    1  \n",
       "42930                  5                    3  \n",
       "72324                  5                    5  \n",
       "85222                  6                    2  \n",
       "88180                  6                    0  "
      ]
     },
     "execution_count": 12,
     "metadata": {},
     "output_type": "execute_result"
    }
   ],
   "source": [
    "#samples of the df\n",
    "df.sample(10)"
   ]
  },
  {
   "cell_type": "code",
   "execution_count": 13,
   "id": "5d38e09b",
   "metadata": {},
   "outputs": [
    {
     "data": {
      "text/plain": [
       "array([ 4,  3,  2,  1,  5, 11, 12,  6], dtype=int64)"
      ]
     },
     "execution_count": 13,
     "metadata": {},
     "output_type": "execute_result"
    }
   ],
   "source": [
    "df.Scheduled_month.unique()"
   ]
  },
  {
   "cell_type": "code",
   "execution_count": 14,
   "id": "8a53257e",
   "metadata": {},
   "outputs": [
    {
     "data": {
      "text/plain": [
       "array([4, 2, 1, 3, 0, 5], dtype=int64)"
      ]
     },
     "execution_count": 14,
     "metadata": {},
     "output_type": "execute_result"
    }
   ],
   "source": [
    "df.Scheduled_weekday.unique()"
   ]
  },
  {
   "cell_type": "code",
   "execution_count": 15,
   "id": "6959503d",
   "metadata": {},
   "outputs": [
    {
     "data": {
      "text/plain": [
       "array([4, 5, 6], dtype=int64)"
      ]
     },
     "execution_count": 15,
     "metadata": {},
     "output_type": "execute_result"
    }
   ],
   "source": [
    "df.Appointment_month.unique()"
   ]
  },
  {
   "cell_type": "code",
   "execution_count": 16,
   "id": "fb09c5fa",
   "metadata": {},
   "outputs": [
    {
     "data": {
      "text/plain": [
       "array([4, 1, 0, 2, 3, 5], dtype=int64)"
      ]
     },
     "execution_count": 16,
     "metadata": {},
     "output_type": "execute_result"
    }
   ],
   "source": [
    "df.Appointment_weekday.unique()"
   ]
  },
  {
   "cell_type": "code",
   "execution_count": 17,
   "id": "91846a4a",
   "metadata": {},
   "outputs": [],
   "source": [
    "#replacing the digt in weekday and month colum to their corresponding day of the week and month\n",
    "week_day = {0:'Monday',1:\"Tuesday\",2:\"Wednesday\",3:'Thursday',4:'Friday',5:'Saturday',6:'Sunday'}\n",
    "month = {1:'Jan',2:\"Feb\",3:\"Mar\",4:'Apr',5:'May',6:'Jun',7:'Jul',8:\"Aug\",9:'Sep',10:'Oct',11:'Nov',12:'Dec'}\n",
    "df['Scheduled_weekday'] = df['Scheduled_weekday'].map(week_day)\n",
    "df['Appointment_weekday'] = df['Appointment_weekday'].map(week_day)\n",
    "\n",
    "df['Scheduled_month'] = df['Scheduled_month'].map(month)\n",
    "df['Appointment_month'] = df['Appointment_month'].map(month)"
   ]
  },
  {
   "cell_type": "code",
   "execution_count": 18,
   "id": "636296bb",
   "metadata": {
    "scrolled": true
   },
   "outputs": [
    {
     "data": {
      "text/html": [
       "<div>\n",
       "<style scoped>\n",
       "    .dataframe tbody tr th:only-of-type {\n",
       "        vertical-align: middle;\n",
       "    }\n",
       "\n",
       "    .dataframe tbody tr th {\n",
       "        vertical-align: top;\n",
       "    }\n",
       "\n",
       "    .dataframe thead th {\n",
       "        text-align: right;\n",
       "    }\n",
       "</style>\n",
       "<table border=\"1\" class=\"dataframe\">\n",
       "  <thead>\n",
       "    <tr style=\"text-align: right;\">\n",
       "      <th></th>\n",
       "      <th>PatientId</th>\n",
       "      <th>AppointmentID</th>\n",
       "      <th>Gender</th>\n",
       "      <th>ScheduledDay</th>\n",
       "      <th>AppointmentDay</th>\n",
       "      <th>Age</th>\n",
       "      <th>Neighbourhood</th>\n",
       "      <th>Scholarship</th>\n",
       "      <th>Hipertension</th>\n",
       "      <th>Diabetes</th>\n",
       "      <th>Alcoholism</th>\n",
       "      <th>Handcap</th>\n",
       "      <th>SMS_received</th>\n",
       "      <th>No-show</th>\n",
       "      <th>Scheduled_year</th>\n",
       "      <th>Scheduled_month</th>\n",
       "      <th>Scheduled_weekday</th>\n",
       "      <th>Appointment_year</th>\n",
       "      <th>Appointment_month</th>\n",
       "      <th>Appointment_weekday</th>\n",
       "    </tr>\n",
       "  </thead>\n",
       "  <tbody>\n",
       "    <tr>\n",
       "      <th>21890</th>\n",
       "      <td>4.176779e+12</td>\n",
       "      <td>5660335</td>\n",
       "      <td>F</td>\n",
       "      <td>2016-05-04 16:09:37+00:00</td>\n",
       "      <td>2016-05-06 00:00:00+00:00</td>\n",
       "      <td>60</td>\n",
       "      <td>GRANDE VITÓRIA</td>\n",
       "      <td>0</td>\n",
       "      <td>1</td>\n",
       "      <td>1</td>\n",
       "      <td>0</td>\n",
       "      <td>0</td>\n",
       "      <td>0</td>\n",
       "      <td>No</td>\n",
       "      <td>2016</td>\n",
       "      <td>May</td>\n",
       "      <td>Wednesday</td>\n",
       "      <td>2016</td>\n",
       "      <td>May</td>\n",
       "      <td>Friday</td>\n",
       "    </tr>\n",
       "    <tr>\n",
       "      <th>68401</th>\n",
       "      <td>4.267925e+12</td>\n",
       "      <td>5717699</td>\n",
       "      <td>F</td>\n",
       "      <td>2016-05-19 08:16:21+00:00</td>\n",
       "      <td>2016-05-19 00:00:00+00:00</td>\n",
       "      <td>33</td>\n",
       "      <td>MARIA ORTIZ</td>\n",
       "      <td>0</td>\n",
       "      <td>0</td>\n",
       "      <td>0</td>\n",
       "      <td>0</td>\n",
       "      <td>0</td>\n",
       "      <td>0</td>\n",
       "      <td>No</td>\n",
       "      <td>2016</td>\n",
       "      <td>May</td>\n",
       "      <td>Thursday</td>\n",
       "      <td>2016</td>\n",
       "      <td>May</td>\n",
       "      <td>Thursday</td>\n",
       "    </tr>\n",
       "    <tr>\n",
       "      <th>39662</th>\n",
       "      <td>8.675758e+10</td>\n",
       "      <td>5692294</td>\n",
       "      <td>F</td>\n",
       "      <td>2016-05-12 14:54:42+00:00</td>\n",
       "      <td>2016-05-19 00:00:00+00:00</td>\n",
       "      <td>89</td>\n",
       "      <td>BENTO FERREIRA</td>\n",
       "      <td>0</td>\n",
       "      <td>0</td>\n",
       "      <td>0</td>\n",
       "      <td>0</td>\n",
       "      <td>0</td>\n",
       "      <td>0</td>\n",
       "      <td>Yes</td>\n",
       "      <td>2016</td>\n",
       "      <td>May</td>\n",
       "      <td>Thursday</td>\n",
       "      <td>2016</td>\n",
       "      <td>May</td>\n",
       "      <td>Thursday</td>\n",
       "    </tr>\n",
       "    <tr>\n",
       "      <th>13419</th>\n",
       "      <td>2.271580e+12</td>\n",
       "      <td>5674643</td>\n",
       "      <td>M</td>\n",
       "      <td>2016-05-09 11:32:46+00:00</td>\n",
       "      <td>2016-05-09 00:00:00+00:00</td>\n",
       "      <td>57</td>\n",
       "      <td>ILHA DE SANTA MARIA</td>\n",
       "      <td>0</td>\n",
       "      <td>0</td>\n",
       "      <td>0</td>\n",
       "      <td>0</td>\n",
       "      <td>0</td>\n",
       "      <td>0</td>\n",
       "      <td>No</td>\n",
       "      <td>2016</td>\n",
       "      <td>May</td>\n",
       "      <td>Monday</td>\n",
       "      <td>2016</td>\n",
       "      <td>May</td>\n",
       "      <td>Monday</td>\n",
       "    </tr>\n",
       "    <tr>\n",
       "      <th>37133</th>\n",
       "      <td>3.138290e+14</td>\n",
       "      <td>5550843</td>\n",
       "      <td>M</td>\n",
       "      <td>2016-04-06 12:33:13+00:00</td>\n",
       "      <td>2016-05-09 00:00:00+00:00</td>\n",
       "      <td>5</td>\n",
       "      <td>JABOUR</td>\n",
       "      <td>0</td>\n",
       "      <td>0</td>\n",
       "      <td>0</td>\n",
       "      <td>0</td>\n",
       "      <td>0</td>\n",
       "      <td>0</td>\n",
       "      <td>Yes</td>\n",
       "      <td>2016</td>\n",
       "      <td>Apr</td>\n",
       "      <td>Wednesday</td>\n",
       "      <td>2016</td>\n",
       "      <td>May</td>\n",
       "      <td>Monday</td>\n",
       "    </tr>\n",
       "  </tbody>\n",
       "</table>\n",
       "</div>"
      ],
      "text/plain": [
       "          PatientId  AppointmentID Gender              ScheduledDay  \\\n",
       "21890  4.176779e+12        5660335      F 2016-05-04 16:09:37+00:00   \n",
       "68401  4.267925e+12        5717699      F 2016-05-19 08:16:21+00:00   \n",
       "39662  8.675758e+10        5692294      F 2016-05-12 14:54:42+00:00   \n",
       "13419  2.271580e+12        5674643      M 2016-05-09 11:32:46+00:00   \n",
       "37133  3.138290e+14        5550843      M 2016-04-06 12:33:13+00:00   \n",
       "\n",
       "                 AppointmentDay  Age        Neighbourhood  Scholarship  \\\n",
       "21890 2016-05-06 00:00:00+00:00   60       GRANDE VITÓRIA            0   \n",
       "68401 2016-05-19 00:00:00+00:00   33          MARIA ORTIZ            0   \n",
       "39662 2016-05-19 00:00:00+00:00   89       BENTO FERREIRA            0   \n",
       "13419 2016-05-09 00:00:00+00:00   57  ILHA DE SANTA MARIA            0   \n",
       "37133 2016-05-09 00:00:00+00:00    5               JABOUR            0   \n",
       "\n",
       "       Hipertension  Diabetes  Alcoholism  Handcap  SMS_received No-show  \\\n",
       "21890             1         1           0        0             0      No   \n",
       "68401             0         0           0        0             0      No   \n",
       "39662             0         0           0        0             0     Yes   \n",
       "13419             0         0           0        0             0      No   \n",
       "37133             0         0           0        0             0     Yes   \n",
       "\n",
       "       Scheduled_year Scheduled_month Scheduled_weekday  Appointment_year  \\\n",
       "21890            2016             May         Wednesday              2016   \n",
       "68401            2016             May          Thursday              2016   \n",
       "39662            2016             May          Thursday              2016   \n",
       "13419            2016             May            Monday              2016   \n",
       "37133            2016             Apr         Wednesday              2016   \n",
       "\n",
       "      Appointment_month Appointment_weekday  \n",
       "21890               May              Friday  \n",
       "68401               May            Thursday  \n",
       "39662               May            Thursday  \n",
       "13419               May              Monday  \n",
       "37133               May              Monday  "
      ]
     },
     "execution_count": 18,
     "metadata": {},
     "output_type": "execute_result"
    }
   ],
   "source": [
    "df.sample(5)"
   ]
  },
  {
   "cell_type": "code",
   "execution_count": 19,
   "id": "38ce010e",
   "metadata": {
    "scrolled": true
   },
   "outputs": [
    {
     "data": {
      "text/html": [
       "<div>\n",
       "<style scoped>\n",
       "    .dataframe tbody tr th:only-of-type {\n",
       "        vertical-align: middle;\n",
       "    }\n",
       "\n",
       "    .dataframe tbody tr th {\n",
       "        vertical-align: top;\n",
       "    }\n",
       "\n",
       "    .dataframe thead th {\n",
       "        text-align: right;\n",
       "    }\n",
       "</style>\n",
       "<table border=\"1\" class=\"dataframe\">\n",
       "  <thead>\n",
       "    <tr style=\"text-align: right;\">\n",
       "      <th></th>\n",
       "      <th>Gender</th>\n",
       "      <th>Age</th>\n",
       "      <th>Neighbourhood</th>\n",
       "      <th>Scholarship</th>\n",
       "      <th>Hipertension</th>\n",
       "      <th>Diabetes</th>\n",
       "      <th>Alcoholism</th>\n",
       "      <th>Handcap</th>\n",
       "      <th>SMS_received</th>\n",
       "      <th>No-show</th>\n",
       "      <th>Scheduled_year</th>\n",
       "      <th>Scheduled_month</th>\n",
       "      <th>Scheduled_weekday</th>\n",
       "      <th>Appointment_year</th>\n",
       "      <th>Appointment_month</th>\n",
       "      <th>Appointment_weekday</th>\n",
       "    </tr>\n",
       "  </thead>\n",
       "  <tbody>\n",
       "    <tr>\n",
       "      <th>33868</th>\n",
       "      <td>F</td>\n",
       "      <td>27</td>\n",
       "      <td>GURIGICA</td>\n",
       "      <td>0</td>\n",
       "      <td>0</td>\n",
       "      <td>0</td>\n",
       "      <td>0</td>\n",
       "      <td>0</td>\n",
       "      <td>0</td>\n",
       "      <td>No</td>\n",
       "      <td>2016</td>\n",
       "      <td>May</td>\n",
       "      <td>Monday</td>\n",
       "      <td>2016</td>\n",
       "      <td>May</td>\n",
       "      <td>Monday</td>\n",
       "    </tr>\n",
       "    <tr>\n",
       "      <th>33255</th>\n",
       "      <td>F</td>\n",
       "      <td>28</td>\n",
       "      <td>SANTA MARTHA</td>\n",
       "      <td>0</td>\n",
       "      <td>0</td>\n",
       "      <td>0</td>\n",
       "      <td>1</td>\n",
       "      <td>0</td>\n",
       "      <td>0</td>\n",
       "      <td>Yes</td>\n",
       "      <td>2016</td>\n",
       "      <td>Apr</td>\n",
       "      <td>Thursday</td>\n",
       "      <td>2016</td>\n",
       "      <td>May</td>\n",
       "      <td>Thursday</td>\n",
       "    </tr>\n",
       "    <tr>\n",
       "      <th>86117</th>\n",
       "      <td>M</td>\n",
       "      <td>56</td>\n",
       "      <td>JARDIM CAMBURI</td>\n",
       "      <td>0</td>\n",
       "      <td>0</td>\n",
       "      <td>0</td>\n",
       "      <td>0</td>\n",
       "      <td>0</td>\n",
       "      <td>0</td>\n",
       "      <td>No</td>\n",
       "      <td>2016</td>\n",
       "      <td>Jun</td>\n",
       "      <td>Tuesday</td>\n",
       "      <td>2016</td>\n",
       "      <td>Jun</td>\n",
       "      <td>Tuesday</td>\n",
       "    </tr>\n",
       "    <tr>\n",
       "      <th>67585</th>\n",
       "      <td>M</td>\n",
       "      <td>0</td>\n",
       "      <td>SÃO PEDRO</td>\n",
       "      <td>0</td>\n",
       "      <td>0</td>\n",
       "      <td>0</td>\n",
       "      <td>0</td>\n",
       "      <td>0</td>\n",
       "      <td>0</td>\n",
       "      <td>Yes</td>\n",
       "      <td>2016</td>\n",
       "      <td>May</td>\n",
       "      <td>Friday</td>\n",
       "      <td>2016</td>\n",
       "      <td>May</td>\n",
       "      <td>Tuesday</td>\n",
       "    </tr>\n",
       "    <tr>\n",
       "      <th>26690</th>\n",
       "      <td>F</td>\n",
       "      <td>48</td>\n",
       "      <td>PARQUE MOSCOSO</td>\n",
       "      <td>0</td>\n",
       "      <td>1</td>\n",
       "      <td>0</td>\n",
       "      <td>0</td>\n",
       "      <td>0</td>\n",
       "      <td>1</td>\n",
       "      <td>No</td>\n",
       "      <td>2016</td>\n",
       "      <td>Apr</td>\n",
       "      <td>Friday</td>\n",
       "      <td>2016</td>\n",
       "      <td>May</td>\n",
       "      <td>Tuesday</td>\n",
       "    </tr>\n",
       "  </tbody>\n",
       "</table>\n",
       "</div>"
      ],
      "text/plain": [
       "      Gender  Age   Neighbourhood  Scholarship  Hipertension  Diabetes  \\\n",
       "33868      F   27        GURIGICA            0             0         0   \n",
       "33255      F   28    SANTA MARTHA            0             0         0   \n",
       "86117      M   56  JARDIM CAMBURI            0             0         0   \n",
       "67585      M    0       SÃO PEDRO            0             0         0   \n",
       "26690      F   48  PARQUE MOSCOSO            0             1         0   \n",
       "\n",
       "       Alcoholism  Handcap  SMS_received No-show  Scheduled_year  \\\n",
       "33868           0        0             0      No            2016   \n",
       "33255           1        0             0     Yes            2016   \n",
       "86117           0        0             0      No            2016   \n",
       "67585           0        0             0     Yes            2016   \n",
       "26690           0        0             1      No            2016   \n",
       "\n",
       "      Scheduled_month Scheduled_weekday  Appointment_year Appointment_month  \\\n",
       "33868             May            Monday              2016               May   \n",
       "33255             Apr          Thursday              2016               May   \n",
       "86117             Jun           Tuesday              2016               Jun   \n",
       "67585             May            Friday              2016               May   \n",
       "26690             Apr            Friday              2016               May   \n",
       "\n",
       "      Appointment_weekday  \n",
       "33868              Monday  \n",
       "33255            Thursday  \n",
       "86117             Tuesday  \n",
       "67585             Tuesday  \n",
       "26690             Tuesday  "
      ]
     },
     "execution_count": 19,
     "metadata": {},
     "output_type": "execute_result"
    }
   ],
   "source": [
    "#drop column that are not needed\n",
    "df.drop(['PatientId','AppointmentID','ScheduledDay','AppointmentDay'], axis=1, inplace=True)\n",
    "df.sample(5)"
   ]
  },
  {
   "cell_type": "code",
   "execution_count": 20,
   "id": "a3fe32e3",
   "metadata": {
    "scrolled": true
   },
   "outputs": [
    {
     "data": {
      "text/html": [
       "<div>\n",
       "<style scoped>\n",
       "    .dataframe tbody tr th:only-of-type {\n",
       "        vertical-align: middle;\n",
       "    }\n",
       "\n",
       "    .dataframe tbody tr th {\n",
       "        vertical-align: top;\n",
       "    }\n",
       "\n",
       "    .dataframe thead th {\n",
       "        text-align: right;\n",
       "    }\n",
       "</style>\n",
       "<table border=\"1\" class=\"dataframe\">\n",
       "  <thead>\n",
       "    <tr style=\"text-align: right;\">\n",
       "      <th></th>\n",
       "      <th>Age</th>\n",
       "      <th>Scholarship</th>\n",
       "      <th>Hipertension</th>\n",
       "      <th>Diabetes</th>\n",
       "      <th>Alcoholism</th>\n",
       "      <th>Handcap</th>\n",
       "      <th>SMS_received</th>\n",
       "      <th>Scheduled_year</th>\n",
       "      <th>Appointment_year</th>\n",
       "    </tr>\n",
       "  </thead>\n",
       "  <tbody>\n",
       "    <tr>\n",
       "      <th>count</th>\n",
       "      <td>110527.000000</td>\n",
       "      <td>110527.000000</td>\n",
       "      <td>110527.000000</td>\n",
       "      <td>110527.000000</td>\n",
       "      <td>110527.000000</td>\n",
       "      <td>110527.000000</td>\n",
       "      <td>110527.000000</td>\n",
       "      <td>110527.000000</td>\n",
       "      <td>110527.0</td>\n",
       "    </tr>\n",
       "    <tr>\n",
       "      <th>mean</th>\n",
       "      <td>37.088874</td>\n",
       "      <td>0.098266</td>\n",
       "      <td>0.197246</td>\n",
       "      <td>0.071865</td>\n",
       "      <td>0.030400</td>\n",
       "      <td>0.022248</td>\n",
       "      <td>0.321026</td>\n",
       "      <td>2015.999439</td>\n",
       "      <td>2016.0</td>\n",
       "    </tr>\n",
       "    <tr>\n",
       "      <th>std</th>\n",
       "      <td>23.110205</td>\n",
       "      <td>0.297675</td>\n",
       "      <td>0.397921</td>\n",
       "      <td>0.258265</td>\n",
       "      <td>0.171686</td>\n",
       "      <td>0.161543</td>\n",
       "      <td>0.466873</td>\n",
       "      <td>0.023678</td>\n",
       "      <td>0.0</td>\n",
       "    </tr>\n",
       "    <tr>\n",
       "      <th>min</th>\n",
       "      <td>-1.000000</td>\n",
       "      <td>0.000000</td>\n",
       "      <td>0.000000</td>\n",
       "      <td>0.000000</td>\n",
       "      <td>0.000000</td>\n",
       "      <td>0.000000</td>\n",
       "      <td>0.000000</td>\n",
       "      <td>2015.000000</td>\n",
       "      <td>2016.0</td>\n",
       "    </tr>\n",
       "    <tr>\n",
       "      <th>25%</th>\n",
       "      <td>18.000000</td>\n",
       "      <td>0.000000</td>\n",
       "      <td>0.000000</td>\n",
       "      <td>0.000000</td>\n",
       "      <td>0.000000</td>\n",
       "      <td>0.000000</td>\n",
       "      <td>0.000000</td>\n",
       "      <td>2016.000000</td>\n",
       "      <td>2016.0</td>\n",
       "    </tr>\n",
       "    <tr>\n",
       "      <th>50%</th>\n",
       "      <td>37.000000</td>\n",
       "      <td>0.000000</td>\n",
       "      <td>0.000000</td>\n",
       "      <td>0.000000</td>\n",
       "      <td>0.000000</td>\n",
       "      <td>0.000000</td>\n",
       "      <td>0.000000</td>\n",
       "      <td>2016.000000</td>\n",
       "      <td>2016.0</td>\n",
       "    </tr>\n",
       "    <tr>\n",
       "      <th>75%</th>\n",
       "      <td>55.000000</td>\n",
       "      <td>0.000000</td>\n",
       "      <td>0.000000</td>\n",
       "      <td>0.000000</td>\n",
       "      <td>0.000000</td>\n",
       "      <td>0.000000</td>\n",
       "      <td>1.000000</td>\n",
       "      <td>2016.000000</td>\n",
       "      <td>2016.0</td>\n",
       "    </tr>\n",
       "    <tr>\n",
       "      <th>max</th>\n",
       "      <td>115.000000</td>\n",
       "      <td>1.000000</td>\n",
       "      <td>1.000000</td>\n",
       "      <td>1.000000</td>\n",
       "      <td>1.000000</td>\n",
       "      <td>4.000000</td>\n",
       "      <td>1.000000</td>\n",
       "      <td>2016.000000</td>\n",
       "      <td>2016.0</td>\n",
       "    </tr>\n",
       "  </tbody>\n",
       "</table>\n",
       "</div>"
      ],
      "text/plain": [
       "                 Age    Scholarship   Hipertension       Diabetes  \\\n",
       "count  110527.000000  110527.000000  110527.000000  110527.000000   \n",
       "mean       37.088874       0.098266       0.197246       0.071865   \n",
       "std        23.110205       0.297675       0.397921       0.258265   \n",
       "min        -1.000000       0.000000       0.000000       0.000000   \n",
       "25%        18.000000       0.000000       0.000000       0.000000   \n",
       "50%        37.000000       0.000000       0.000000       0.000000   \n",
       "75%        55.000000       0.000000       0.000000       0.000000   \n",
       "max       115.000000       1.000000       1.000000       1.000000   \n",
       "\n",
       "          Alcoholism        Handcap   SMS_received  Scheduled_year  \\\n",
       "count  110527.000000  110527.000000  110527.000000   110527.000000   \n",
       "mean        0.030400       0.022248       0.321026     2015.999439   \n",
       "std         0.171686       0.161543       0.466873        0.023678   \n",
       "min         0.000000       0.000000       0.000000     2015.000000   \n",
       "25%         0.000000       0.000000       0.000000     2016.000000   \n",
       "50%         0.000000       0.000000       0.000000     2016.000000   \n",
       "75%         0.000000       0.000000       1.000000     2016.000000   \n",
       "max         1.000000       4.000000       1.000000     2016.000000   \n",
       "\n",
       "       Appointment_year  \n",
       "count          110527.0  \n",
       "mean             2016.0  \n",
       "std                 0.0  \n",
       "min              2016.0  \n",
       "25%              2016.0  \n",
       "50%              2016.0  \n",
       "75%              2016.0  \n",
       "max              2016.0  "
      ]
     },
     "execution_count": 20,
     "metadata": {},
     "output_type": "execute_result"
    }
   ],
   "source": [
    "#descipetive statistics of numeric columns in the dataframe\n",
    "df.describe()"
   ]
  },
  {
   "cell_type": "code",
   "execution_count": 21,
   "id": "6326f27a",
   "metadata": {},
   "outputs": [
    {
     "data": {
      "text/html": [
       "<div>\n",
       "<style scoped>\n",
       "    .dataframe tbody tr th:only-of-type {\n",
       "        vertical-align: middle;\n",
       "    }\n",
       "\n",
       "    .dataframe tbody tr th {\n",
       "        vertical-align: top;\n",
       "    }\n",
       "\n",
       "    .dataframe thead th {\n",
       "        text-align: right;\n",
       "    }\n",
       "</style>\n",
       "<table border=\"1\" class=\"dataframe\">\n",
       "  <thead>\n",
       "    <tr style=\"text-align: right;\">\n",
       "      <th></th>\n",
       "      <th>Gender</th>\n",
       "      <th>Neighbourhood</th>\n",
       "      <th>No-show</th>\n",
       "      <th>Scheduled_month</th>\n",
       "      <th>Scheduled_weekday</th>\n",
       "      <th>Appointment_month</th>\n",
       "      <th>Appointment_weekday</th>\n",
       "    </tr>\n",
       "  </thead>\n",
       "  <tbody>\n",
       "    <tr>\n",
       "      <th>count</th>\n",
       "      <td>110527</td>\n",
       "      <td>110527</td>\n",
       "      <td>110527</td>\n",
       "      <td>110527</td>\n",
       "      <td>110527</td>\n",
       "      <td>110527</td>\n",
       "      <td>110527</td>\n",
       "    </tr>\n",
       "    <tr>\n",
       "      <th>unique</th>\n",
       "      <td>2</td>\n",
       "      <td>81</td>\n",
       "      <td>2</td>\n",
       "      <td>8</td>\n",
       "      <td>6</td>\n",
       "      <td>3</td>\n",
       "      <td>6</td>\n",
       "    </tr>\n",
       "    <tr>\n",
       "      <th>top</th>\n",
       "      <td>F</td>\n",
       "      <td>JARDIM CAMBURI</td>\n",
       "      <td>No</td>\n",
       "      <td>May</td>\n",
       "      <td>Tuesday</td>\n",
       "      <td>May</td>\n",
       "      <td>Wednesday</td>\n",
       "    </tr>\n",
       "    <tr>\n",
       "      <th>freq</th>\n",
       "      <td>71840</td>\n",
       "      <td>7717</td>\n",
       "      <td>88208</td>\n",
       "      <td>67421</td>\n",
       "      <td>26168</td>\n",
       "      <td>80841</td>\n",
       "      <td>25867</td>\n",
       "    </tr>\n",
       "  </tbody>\n",
       "</table>\n",
       "</div>"
      ],
      "text/plain": [
       "        Gender   Neighbourhood No-show Scheduled_month Scheduled_weekday  \\\n",
       "count   110527          110527  110527          110527            110527   \n",
       "unique       2              81       2               8                 6   \n",
       "top          F  JARDIM CAMBURI      No             May           Tuesday   \n",
       "freq     71840            7717   88208           67421             26168   \n",
       "\n",
       "       Appointment_month Appointment_weekday  \n",
       "count             110527              110527  \n",
       "unique                 3                   6  \n",
       "top                  May           Wednesday  \n",
       "freq               80841               25867  "
      ]
     },
     "execution_count": 21,
     "metadata": {},
     "output_type": "execute_result"
    }
   ],
   "source": [
    "#descriptive statistics of object columns\n",
    "df.select_dtypes(include='object').describe()"
   ]
  },
  {
   "cell_type": "markdown",
   "id": "d0912ec1",
   "metadata": {},
   "source": [
    "Observations\n",
    "1. The average age of patients is 37\n",
    "2. 25% of the patients are 18years, 50% are 37 years and 75% are 55 years\n",
    "3. The minimum age is -1 (which should be an error) while the maximun age is 115years\n",
    "4. Some patients schedule their appointment in 2015\n",
    "5. All patients actual appointment is done in 2016\n",
    "6. There are more female patients than male patients in the dataset\n",
    "7. The hospital in JARDIM CAMBURI is mostly used by patients\n",
    "8. The month with highest set up of patient's appointment is May\n",
    "9. Patients schedule appointment on Tuesday than every other days of the week.\n",
    "\n",
    "Note: minimum age will be replaced with the average age"
   ]
  },
  {
   "cell_type": "code",
   "execution_count": 22,
   "id": "1e0ca3f6",
   "metadata": {
    "scrolled": true
   },
   "outputs": [
    {
     "data": {
      "text/html": [
       "<div>\n",
       "<style scoped>\n",
       "    .dataframe tbody tr th:only-of-type {\n",
       "        vertical-align: middle;\n",
       "    }\n",
       "\n",
       "    .dataframe tbody tr th {\n",
       "        vertical-align: top;\n",
       "    }\n",
       "\n",
       "    .dataframe thead th {\n",
       "        text-align: right;\n",
       "    }\n",
       "</style>\n",
       "<table border=\"1\" class=\"dataframe\">\n",
       "  <thead>\n",
       "    <tr style=\"text-align: right;\">\n",
       "      <th></th>\n",
       "      <th>Gender</th>\n",
       "      <th>Age</th>\n",
       "      <th>Neighbourhood</th>\n",
       "      <th>Scholarship</th>\n",
       "      <th>Hipertension</th>\n",
       "      <th>Diabetes</th>\n",
       "      <th>Alcoholism</th>\n",
       "      <th>Handcap</th>\n",
       "      <th>SMS_received</th>\n",
       "      <th>No-show</th>\n",
       "      <th>Scheduled_year</th>\n",
       "      <th>Scheduled_month</th>\n",
       "      <th>Scheduled_weekday</th>\n",
       "      <th>Appointment_year</th>\n",
       "      <th>Appointment_month</th>\n",
       "      <th>Appointment_weekday</th>\n",
       "    </tr>\n",
       "  </thead>\n",
       "  <tbody>\n",
       "    <tr>\n",
       "      <th>99832</th>\n",
       "      <td>F</td>\n",
       "      <td>-1</td>\n",
       "      <td>ROMÃO</td>\n",
       "      <td>0</td>\n",
       "      <td>0</td>\n",
       "      <td>0</td>\n",
       "      <td>0</td>\n",
       "      <td>0</td>\n",
       "      <td>0</td>\n",
       "      <td>No</td>\n",
       "      <td>2016</td>\n",
       "      <td>Jun</td>\n",
       "      <td>Monday</td>\n",
       "      <td>2016</td>\n",
       "      <td>Jun</td>\n",
       "      <td>Monday</td>\n",
       "    </tr>\n",
       "  </tbody>\n",
       "</table>\n",
       "</div>"
      ],
      "text/plain": [
       "      Gender  Age Neighbourhood  Scholarship  Hipertension  Diabetes  \\\n",
       "99832      F   -1         ROMÃO            0             0         0   \n",
       "\n",
       "       Alcoholism  Handcap  SMS_received No-show  Scheduled_year  \\\n",
       "99832           0        0             0      No            2016   \n",
       "\n",
       "      Scheduled_month Scheduled_weekday  Appointment_year Appointment_month  \\\n",
       "99832             Jun            Monday              2016               Jun   \n",
       "\n",
       "      Appointment_weekday  \n",
       "99832              Monday  "
      ]
     },
     "execution_count": 22,
     "metadata": {},
     "output_type": "execute_result"
    }
   ],
   "source": [
    "#get age columns with value of -1\n",
    "df.query('Age == -1')"
   ]
  },
  {
   "cell_type": "code",
   "execution_count": 23,
   "id": "9717bdd0",
   "metadata": {},
   "outputs": [
    {
     "data": {
      "text/html": [
       "<div>\n",
       "<style scoped>\n",
       "    .dataframe tbody tr th:only-of-type {\n",
       "        vertical-align: middle;\n",
       "    }\n",
       "\n",
       "    .dataframe tbody tr th {\n",
       "        vertical-align: top;\n",
       "    }\n",
       "\n",
       "    .dataframe thead th {\n",
       "        text-align: right;\n",
       "    }\n",
       "</style>\n",
       "<table border=\"1\" class=\"dataframe\">\n",
       "  <thead>\n",
       "    <tr style=\"text-align: right;\">\n",
       "      <th></th>\n",
       "      <th>Gender</th>\n",
       "      <th>Age</th>\n",
       "      <th>Neighbourhood</th>\n",
       "      <th>Scholarship</th>\n",
       "      <th>Hipertension</th>\n",
       "      <th>Diabetes</th>\n",
       "      <th>Alcoholism</th>\n",
       "      <th>Handcap</th>\n",
       "      <th>SMS_received</th>\n",
       "      <th>No-show</th>\n",
       "      <th>Scheduled_year</th>\n",
       "      <th>Scheduled_month</th>\n",
       "      <th>Scheduled_weekday</th>\n",
       "      <th>Appointment_year</th>\n",
       "      <th>Appointment_month</th>\n",
       "      <th>Appointment_weekday</th>\n",
       "    </tr>\n",
       "  </thead>\n",
       "  <tbody>\n",
       "  </tbody>\n",
       "</table>\n",
       "</div>"
      ],
      "text/plain": [
       "Empty DataFrame\n",
       "Columns: [Gender, Age, Neighbourhood, Scholarship, Hipertension, Diabetes, Alcoholism, Handcap, SMS_received, No-show, Scheduled_year, Scheduled_month, Scheduled_weekday, Appointment_year, Appointment_month, Appointment_weekday]\n",
       "Index: []"
      ]
     },
     "execution_count": 23,
     "metadata": {},
     "output_type": "execute_result"
    }
   ],
   "source": [
    "#replace age -1 with 37- the average age\n",
    "df['Age'].replace(-1, 37, inplace=True)\n",
    "df.query('Age == -1')"
   ]
  },
  {
   "cell_type": "markdown",
   "id": "b5be3c04",
   "metadata": {},
   "source": [
    "Exploratory data Analysis"
   ]
  },
  {
   "cell_type": "code",
   "execution_count": 24,
   "id": "39d0d5ba",
   "metadata": {
    "scrolled": true
   },
   "outputs": [
    {
     "data": {
      "text/html": [
       "<div>\n",
       "<style scoped>\n",
       "    .dataframe tbody tr th:only-of-type {\n",
       "        vertical-align: middle;\n",
       "    }\n",
       "\n",
       "    .dataframe tbody tr th {\n",
       "        vertical-align: top;\n",
       "    }\n",
       "\n",
       "    .dataframe thead th {\n",
       "        text-align: right;\n",
       "    }\n",
       "</style>\n",
       "<table border=\"1\" class=\"dataframe\">\n",
       "  <thead>\n",
       "    <tr style=\"text-align: right;\">\n",
       "      <th>No-show</th>\n",
       "      <th>No</th>\n",
       "      <th>Yes</th>\n",
       "    </tr>\n",
       "    <tr>\n",
       "      <th>Gender</th>\n",
       "      <th></th>\n",
       "      <th></th>\n",
       "    </tr>\n",
       "  </thead>\n",
       "  <tbody>\n",
       "    <tr>\n",
       "      <th>F</th>\n",
       "      <td>57246</td>\n",
       "      <td>14594</td>\n",
       "    </tr>\n",
       "    <tr>\n",
       "      <th>M</th>\n",
       "      <td>30962</td>\n",
       "      <td>7725</td>\n",
       "    </tr>\n",
       "  </tbody>\n",
       "</table>\n",
       "</div>"
      ],
      "text/plain": [
       "No-show     No    Yes\n",
       "Gender               \n",
       "F        57246  14594\n",
       "M        30962   7725"
      ]
     },
     "execution_count": 24,
     "metadata": {},
     "output_type": "execute_result"
    }
   ],
   "source": [
    "df.groupby([\"Gender\",'No-show'])['Gender'].count().unstack('No-show')"
   ]
  },
  {
   "cell_type": "markdown",
   "id": "ccffef32",
   "metadata": {},
   "source": [
    "observation: there are more female that showed up for appointment than male in the dataset"
   ]
  },
  {
   "cell_type": "code",
   "execution_count": 25,
   "id": "63a9ddde",
   "metadata": {
    "scrolled": true
   },
   "outputs": [
    {
     "data": {
      "image/png": "[encoded data removed]",
      "text/plain": [
       "<Figure size 432x288 with 1 Axes>"
      ]
     },
     "metadata": {
      "needs_background": "light"
     },
     "output_type": "display_data"
    },
    {
     "data": {
      "image/png": "[encoded data removed]",
      "text/plain": [
       "<Figure size 432x288 with 1 Axes>"
      ]
     },
     "metadata": {
      "needs_background": "light"
     },
     "output_type": "display_data"
    },
    {
     "data": {
      "image/png": "[encoded data removed]",
      "text/plain": [
       "<Figure size 432x288 with 1 Axes>"
      ]
     },
     "metadata": {
      "needs_background": "light"
     },
     "output_type": "display_data"
    },
    {
     "data": {
      "image/png": "[encoded data removed]",
      "text/plain": [
       "<Figure size 432x288 with 1 Axes>"
      ]
     },
     "metadata": {
      "needs_background": "light"
     },
     "output_type": "display_data"
    },
    {
     "data": {
      "image/png": "[encoded data removed]",
      "text/plain": [
       "<Figure size 432x288 with 1 Axes>"
      ]
     },
     "metadata": {
      "needs_background": "light"
     },
     "output_type": "display_data"
    },
    {
     "data": {
      "image/png": "[encoded data removed]",
      "text/plain": [
       "<Figure size 432x288 with 1 Axes>"
      ]
     },
     "metadata": {
      "needs_background": "light"
     },
     "output_type": "display_data"
    },
    {
     "data": {
      "image/png": "[encoded data removed]",
      "text/plain": [
       "<Figure size 432x288 with 1 Axes>"
      ]
     },
     "metadata": {
      "needs_background": "light"
     },
     "output_type": "display_data"
    },
    {
     "data": {
      "image/png": "[encoded data removed]",
      "text/plain": [
       "<Figure size 432x288 with 1 Axes>"
      ]
     },
     "metadata": {
      "needs_background": "light"
     },
     "output_type": "display_data"
    },
    {
     "data": {
      "image/png": "[encoded data removed]",
      "text/plain": [
       "<Figure size 432x288 with 1 Axes>"
      ]
     },
     "metadata": {
      "needs_background": "light"
     },
     "output_type": "display_data"
    },
    {
     "data": {
      "image/png": "[encoded data removed]",
      "text/plain": [
       "<Figure size 432x288 with 1 Axes>"
      ]
     },
     "metadata": {
      "needs_background": "light"
     },
     "output_type": "display_data"
    },
    {
     "data": {
      "image/png": "[encoded data removed]",
      "text/plain": [
       "<Figure size 432x288 with 1 Axes>"
      ]
     },
     "metadata": {
      "needs_background": "light"
     },
     "output_type": "display_data"
    },
    {
     "data": {
      "image/png": "[encoded data removed]",
      "text/plain": [
       "<Figure size 432x288 with 1 Axes>"
      ]
     },
     "metadata": {
      "needs_background": "light"
     },
     "output_type": "display_data"
    },
    {
     "data": {
      "image/png": "[encoded data removed]",
      "text/plain": [
       "<Figure size 432x288 with 1 Axes>"
      ]
     },
     "metadata": {
      "needs_background": "light"
     },
     "output_type": "display_data"
    }
   ],
   "source": [
    "#bar chart for all columns in the dataset grouped by No-show columns\n",
    "for col in df.drop(['Age','Neighbourhood'], axis=1):\n",
    "    try:\n",
    "        df.groupby([col,'No-show'])[col].count().unstack('No-show').plot(kind='bar', xlabel=col, \n",
    "                                                                     ylabel='Distribution', title=col + ' Distribution by No-show')\n",
    "        plt.show()\n",
    "    except:\n",
    "        pass"
   ]
  },
  {
   "cell_type": "code",
   "execution_count": null,
   "id": "a11861e8",
   "metadata": {},
   "outputs": [],
   "source": [
    "#top 10 hospital  location"
   ]
  },
  {
   "cell_type": "code",
   "execution_count": 52,
   "id": "9379538d",
   "metadata": {},
   "outputs": [],
   "source": [
    "def plot_bar(col, kind='bar', title=None,xlabel=None, ylabel=None):\n",
    "    col.plot(kind=kind)\n",
    "    plt.title(title)\n",
    "    plt.xlabel(xlabel)\n",
    "    plt.ylabel(ylabel)\n",
    "    plt.show()"
   ]
  },
  {
   "cell_type": "code",
   "execution_count": 53,
   "id": "b9bcd797",
   "metadata": {},
   "outputs": [],
   "source": [
    "#top 10 hospital  location\n",
    "top_ten_Neighbourhood = df['Neighbourhood'].value_counts().sort_values().tail(10)"
   ]
  },
  {
   "cell_type": "code",
   "execution_count": 54,
   "id": "8ee3abd4",
   "metadata": {},
   "outputs": [
    {
     "data": {
      "image/png": "[encoded data removed]",
      "text/plain": [
       "<Figure size 432x288 with 1 Axes>"
      ]
     },
     "metadata": {
      "needs_background": "light"
     },
     "output_type": "display_data"
    }
   ],
   "source": [
    "#top 10 hospital  location visualization\n",
    "plot_bar(top_ten_Neighbourhood, kind='barh', title = 'Count plot for top 10 neighbourhood', xlabel='Frequency',\n",
    "        ylabel='Neighborhood')"
   ]
  },
  {
   "cell_type": "markdown",
   "id": "1543c32e",
   "metadata": {},
   "source": [
    "JARDIM CAMBURI is the neighourhood with that has the highest registration for patients"
   ]
  },
  {
   "cell_type": "code",
   "execution_count": 55,
   "id": "b72b5cb5",
   "metadata": {},
   "outputs": [],
   "source": [
    "#top 10  neighbourhood distribution for show / no-show patients?\n",
    "neighbour_list = list(df['Neighbourhood'].value_counts().sort_values().tail(10).index)\n",
    "\n",
    "no_show_neig = df[['Neighbourhood', 'No-show']].query('Neighbourhood in {}'.format(neighbour_list)\n",
    "                                      ).groupby([\"Neighbourhood\",'No-show'])['Neighbourhood'].count().unstack('No-show')"
   ]
  },
  {
   "cell_type": "code",
   "execution_count": 57,
   "id": "54dacb9a",
   "metadata": {},
   "outputs": [
    {
     "data": {
      "image/png": "[encoded data removed]",
      "text/plain": [
       "<Figure size 432x288 with 1 Axes>"
      ]
     },
     "metadata": {
      "needs_background": "light"
     },
     "output_type": "display_data"
    }
   ],
   "source": [
    "plot_bar(no_show_neig, kind='barh', title='top 10 neighbourhood grouped by appointment', xlabel='Frequency',\n",
    "        ylabel='Neighborhood')"
   ]
  },
  {
   "cell_type": "code",
   "execution_count": null,
   "id": "3f1ace71",
   "metadata": {},
   "outputs": [],
   "source": []
  },
  {
   "cell_type": "code",
   "execution_count": 45,
   "id": "4abe9260",
   "metadata": {
    "scrolled": true
   },
   "outputs": [
    {
     "data": {
      "image/png": "[encoded data removed]",
      "text/plain": [
       "<Figure size 432x288 with 1 Axes>"
      ]
     },
     "metadata": {
      "needs_background": "light"
     },
     "output_type": "display_data"
    },
    {
     "name": "stdout",
     "output_type": "stream",
     "text": [
      "\n",
      "-----------------------------------------------------------------------------------------\n",
      "\n"
     ]
    },
    {
     "data": {
      "image/png": "[encoded data removed]",
      "text/plain": [
       "<Figure size 432x288 with 1 Axes>"
      ]
     },
     "metadata": {
      "needs_background": "light"
     },
     "output_type": "display_data"
    },
    {
     "name": "stdout",
     "output_type": "stream",
     "text": [
      "\n",
      "-----------------------------------------------------------------------------------------\n",
      "\n"
     ]
    },
    {
     "data": {
      "image/png": "[encoded data removed]",
      "text/plain": [
       "<Figure size 432x288 with 1 Axes>"
      ]
     },
     "metadata": {
      "needs_background": "light"
     },
     "output_type": "display_data"
    },
    {
     "name": "stdout",
     "output_type": "stream",
     "text": [
      "\n",
      "-----------------------------------------------------------------------------------------\n",
      "\n"
     ]
    },
    {
     "data": {
      "image/png": "[encoded data removed]",
      "text/plain": [
       "<Figure size 432x288 with 1 Axes>"
      ]
     },
     "metadata": {
      "needs_background": "light"
     },
     "output_type": "display_data"
    },
    {
     "name": "stdout",
     "output_type": "stream",
     "text": [
      "\n",
      "-----------------------------------------------------------------------------------------\n",
      "\n"
     ]
    },
    {
     "data": {
      "image/png": "[encoded data removed]",
      "text/plain": [
       "<Figure size 432x288 with 1 Axes>"
      ]
     },
     "metadata": {
      "needs_background": "light"
     },
     "output_type": "display_data"
    },
    {
     "name": "stdout",
     "output_type": "stream",
     "text": [
      "\n",
      "-----------------------------------------------------------------------------------------\n",
      "\n"
     ]
    },
    {
     "data": {
      "image/png": "[encoded data removed]",
      "text/plain": [
       "<Figure size 432x288 with 1 Axes>"
      ]
     },
     "metadata": {
      "needs_background": "light"
     },
     "output_type": "display_data"
    },
    {
     "name": "stdout",
     "output_type": "stream",
     "text": [
      "\n",
      "-----------------------------------------------------------------------------------------\n",
      "\n"
     ]
    }
   ],
   "source": [
    "#top 10  neighbourhood distribution for categorical colums in the dataset\n",
    "cat_col = ['Gender','Scholarship','Hipertension','Diabetes','Alcoholism','SMS_received']\n",
    "to_10_neighbour_df = df.query('Neighbourhood in {}'.format(neighbour_list))\n",
    "for col in to_10_neighbour_df.columns:\n",
    "    if col in cat_col:\n",
    "        to_10_neighbour_df.groupby([col,\"Neighbourhood\"])['Neighbourhood'].count().unstack(col).plot(kind='barh')\n",
    "        \n",
    "        plt.xlabel('Frequency')\n",
    "        plt.show()\n",
    "        \n",
    "        print('\\n-----------------------------------------------------------------------------------------\\n')\n",
    "                                                                                               "
   ]
  },
  {
   "cell_type": "markdown",
   "id": "2640d686",
   "metadata": {},
   "source": [
    "Observation\n",
    "1. Most patients Schedule their appointment in May. \n",
    "2. There is no appointment scheduled in July, August, September and October\n",
    "3. Most patients Schedule their appointment on Tusesday.  There is no appointment scheduled on Sunday.\n",
    "4. Patient go for their appointment only in April, May and June.  \n",
    "5. Most patients go for their appointment on Wednesday. There is no appointment scheduled on Sunday.\n",
    "6. Patients uses hospital located at JARDIM CAMBURI than hosipital located at any other location\n",
    "7. Patients that uses hospital in JARDIM DA PENHA are patients with no scholarship\n",
    "8. Patients that uses hosipital located in MARIA ORTIZ, JARDIM DA PENHA and JARDIM CAMBURI are patients that don't take alcohol"
   ]
  },
  {
   "cell_type": "code",
   "execution_count": 114,
   "id": "4d73c108",
   "metadata": {
    "collapsed": true
   },
   "outputs": [
    {
     "data": {
      "image/png": "[encoded data removed]",
      "text/plain": [
       "<Figure size 432x288 with 1 Axes>"
      ]
     },
     "metadata": {
      "needs_background": "light"
     },
     "output_type": "display_data"
    }
   ],
   "source": [
    "df.Age.plot(kind='hist');"
   ]
  },
  {
   "cell_type": "code",
   "execution_count": 59,
   "id": "cfa7f1a9",
   "metadata": {},
   "outputs": [
    {
     "data": {
      "image/png": "[encoded data removed]",
      "text/plain": [
       "<Figure size 432x288 with 1 Axes>"
      ]
     },
     "metadata": {
      "needs_background": "light"
     },
     "output_type": "display_data"
    }
   ],
   "source": [
    "#Age distribution for show /No show patients\n",
    "df['Age'][df['No-show'] == 'No'].plot(kind='hist', label='No')\n",
    "df['Age'][df['No-show'] == 'Yes'].plot(kind='hist', label='Yes')\n",
    "plt.legend()\n",
    "plt.title('Histogram for Patients Age distribution')\n",
    "plt.xlabel('Age Group');"
   ]
  },
  {
   "cell_type": "markdown",
   "id": "6ce5bb4a",
   "metadata": {},
   "source": [
    "observation: Patients between Age does not determine if a patients will show for their aopointment or not"
   ]
  },
  {
   "cell_type": "code",
   "execution_count": 132,
   "id": "8c006a45",
   "metadata": {},
   "outputs": [
    {
     "data": {
      "text/plain": [
       "3539"
      ]
     },
     "execution_count": 132,
     "metadata": {},
     "output_type": "execute_result"
    }
   ],
   "source": [
    "df['Age'][df['Age'] == 0].count()"
   ]
  },
  {
   "cell_type": "markdown",
   "id": "4445e025",
   "metadata": {},
   "source": [
    "Observation\n",
    "\n",
    "The age of  most patients in the dataset lies between 0 and 60. there is no outlier"
   ]
  },
  {
   "cell_type": "code",
   "execution_count": 61,
   "id": "bf7b6adf",
   "metadata": {},
   "outputs": [
    {
     "data": {
      "text/html": [
       "<div>\n",
       "<style scoped>\n",
       "    .dataframe tbody tr th:only-of-type {\n",
       "        vertical-align: middle;\n",
       "    }\n",
       "\n",
       "    .dataframe tbody tr th {\n",
       "        vertical-align: top;\n",
       "    }\n",
       "\n",
       "    .dataframe thead th {\n",
       "        text-align: right;\n",
       "    }\n",
       "</style>\n",
       "<table border=\"1\" class=\"dataframe\">\n",
       "  <thead>\n",
       "    <tr style=\"text-align: right;\">\n",
       "      <th>Hipertension</th>\n",
       "      <th>0</th>\n",
       "      <th>1</th>\n",
       "    </tr>\n",
       "    <tr>\n",
       "      <th>No-show</th>\n",
       "      <th></th>\n",
       "      <th></th>\n",
       "    </tr>\n",
       "  </thead>\n",
       "  <tbody>\n",
       "    <tr>\n",
       "      <th>No</th>\n",
       "      <td>70179</td>\n",
       "      <td>18029</td>\n",
       "    </tr>\n",
       "    <tr>\n",
       "      <th>Yes</th>\n",
       "      <td>18547</td>\n",
       "      <td>3772</td>\n",
       "    </tr>\n",
       "  </tbody>\n",
       "</table>\n",
       "</div>"
      ],
      "text/plain": [
       "Hipertension      0      1\n",
       "No-show                   \n",
       "No            70179  18029\n",
       "Yes           18547   3772"
      ]
     },
     "execution_count": 61,
     "metadata": {},
     "output_type": "execute_result"
    }
   ],
   "source": [
    "df.groupby([\"No-show\",'Hipertension'])['Gender'].count().unstack('Hipertension')"
   ]
  },
  {
   "cell_type": "markdown",
   "id": "d57071fb",
   "metadata": {},
   "source": [
    "patients with hypertention tends to show up for their appointment than patiens without hypertention"
   ]
  },
  {
   "cell_type": "code",
   "execution_count": 62,
   "id": "17b7c3bf",
   "metadata": {},
   "outputs": [
    {
     "data": {
      "text/html": [
       "<div>\n",
       "<style scoped>\n",
       "    .dataframe tbody tr th:only-of-type {\n",
       "        vertical-align: middle;\n",
       "    }\n",
       "\n",
       "    .dataframe tbody tr th {\n",
       "        vertical-align: top;\n",
       "    }\n",
       "\n",
       "    .dataframe thead th {\n",
       "        text-align: right;\n",
       "    }\n",
       "</style>\n",
       "<table border=\"1\" class=\"dataframe\">\n",
       "  <thead>\n",
       "    <tr style=\"text-align: right;\">\n",
       "      <th>Diabetes</th>\n",
       "      <th>0</th>\n",
       "      <th>1</th>\n",
       "    </tr>\n",
       "    <tr>\n",
       "      <th>No-show</th>\n",
       "      <th></th>\n",
       "      <th></th>\n",
       "    </tr>\n",
       "  </thead>\n",
       "  <tbody>\n",
       "    <tr>\n",
       "      <th>No</th>\n",
       "      <td>81695</td>\n",
       "      <td>6513</td>\n",
       "    </tr>\n",
       "    <tr>\n",
       "      <th>Yes</th>\n",
       "      <td>20889</td>\n",
       "      <td>1430</td>\n",
       "    </tr>\n",
       "  </tbody>\n",
       "</table>\n",
       "</div>"
      ],
      "text/plain": [
       "Diabetes      0     1\n",
       "No-show              \n",
       "No        81695  6513\n",
       "Yes       20889  1430"
      ]
     },
     "execution_count": 62,
     "metadata": {},
     "output_type": "execute_result"
    }
   ],
   "source": [
    "df.groupby([\"No-show\",'Diabetes'])['Gender'].count().unstack('Diabetes')"
   ]
  },
  {
   "cell_type": "markdown",
   "id": "446dad47",
   "metadata": {},
   "source": [
    "observation: patients with Diabetes also tends to show up for apointment. It can be conluded that patients battling with one  sickness or the other takes their appointment serious"
   ]
  },
  {
   "cell_type": "code",
   "execution_count": 126,
   "id": "c5d268ce",
   "metadata": {},
   "outputs": [
    {
     "data": {
      "text/html": [
       "<div>\n",
       "<style scoped>\n",
       "    .dataframe tbody tr th:only-of-type {\n",
       "        vertical-align: middle;\n",
       "    }\n",
       "\n",
       "    .dataframe tbody tr th {\n",
       "        vertical-align: top;\n",
       "    }\n",
       "\n",
       "    .dataframe thead th {\n",
       "        text-align: right;\n",
       "    }\n",
       "</style>\n",
       "<table border=\"1\" class=\"dataframe\">\n",
       "  <thead>\n",
       "    <tr style=\"text-align: right;\">\n",
       "      <th>Alcoholism</th>\n",
       "      <th>0</th>\n",
       "      <th>1</th>\n",
       "    </tr>\n",
       "    <tr>\n",
       "      <th>Gender</th>\n",
       "      <th></th>\n",
       "      <th></th>\n",
       "    </tr>\n",
       "  </thead>\n",
       "  <tbody>\n",
       "    <tr>\n",
       "      <th>F</th>\n",
       "      <td>70617</td>\n",
       "      <td>1223</td>\n",
       "    </tr>\n",
       "    <tr>\n",
       "      <th>M</th>\n",
       "      <td>36550</td>\n",
       "      <td>2137</td>\n",
       "    </tr>\n",
       "  </tbody>\n",
       "</table>\n",
       "</div>"
      ],
      "text/plain": [
       "Alcoholism      0     1\n",
       "Gender                 \n",
       "F           70617  1223\n",
       "M           36550  2137"
      ]
     },
     "execution_count": 126,
     "metadata": {},
     "output_type": "execute_result"
    }
   ],
   "source": [
    "df.groupby([\"Gender\",'Alcoholism'])['Gender'].count().unstack('Alcoholism')"
   ]
  },
  {
   "cell_type": "code",
   "execution_count": 49,
   "id": "1a641d66",
   "metadata": {},
   "outputs": [
    {
     "data": {
      "image/png": "[encoded data removed]",
      "text/plain": [
       "<Figure size 432x288 with 1 Axes>"
      ]
     },
     "metadata": {
      "needs_background": "light"
     },
     "output_type": "display_data"
    }
   ],
   "source": [
    "#Alcoholic patients distribution for patients gender\n",
    "df.groupby([\"Gender\",'Alcoholism'])['Gender'].count().unstack('Gender').plot(kind='bar')\n",
    "plt.title('Distribution of Patients that takes alcohol Grouped by Gender')\n",
    "plt.ylabel('Frequency');"
   ]
  },
  {
   "cell_type": "markdown",
   "id": "13a9d6b4",
   "metadata": {},
   "source": [
    "observation: Male patients take alcohol than femae patients"
   ]
  },
  {
   "cell_type": "code",
   "execution_count": 129,
   "id": "af12df22",
   "metadata": {},
   "outputs": [
    {
     "data": {
      "text/html": [
       "<div>\n",
       "<style scoped>\n",
       "    .dataframe tbody tr th:only-of-type {\n",
       "        vertical-align: middle;\n",
       "    }\n",
       "\n",
       "    .dataframe tbody tr th {\n",
       "        vertical-align: top;\n",
       "    }\n",
       "\n",
       "    .dataframe thead th {\n",
       "        text-align: right;\n",
       "    }\n",
       "</style>\n",
       "<table border=\"1\" class=\"dataframe\">\n",
       "  <thead>\n",
       "    <tr style=\"text-align: right;\">\n",
       "      <th>SMS_received</th>\n",
       "      <th>0</th>\n",
       "      <th>1</th>\n",
       "    </tr>\n",
       "    <tr>\n",
       "      <th>Gender</th>\n",
       "      <th></th>\n",
       "      <th></th>\n",
       "    </tr>\n",
       "  </thead>\n",
       "  <tbody>\n",
       "    <tr>\n",
       "      <th>F</th>\n",
       "      <td>47638</td>\n",
       "      <td>24202</td>\n",
       "    </tr>\n",
       "    <tr>\n",
       "      <th>M</th>\n",
       "      <td>27407</td>\n",
       "      <td>11280</td>\n",
       "    </tr>\n",
       "  </tbody>\n",
       "</table>\n",
       "</div>"
      ],
      "text/plain": [
       "SMS_received      0      1\n",
       "Gender                    \n",
       "F             47638  24202\n",
       "M             27407  11280"
      ]
     },
     "execution_count": 129,
     "metadata": {},
     "output_type": "execute_result"
    }
   ],
   "source": [
    "df.groupby([\"Gender\",'SMS_received'])['Gender'].count().unstack('SMS_received')"
   ]
  },
  {
   "cell_type": "markdown",
   "id": "e188eb8b",
   "metadata": {},
   "source": [
    "Observation\n",
    "\n",
    "1. The number of female patients that received SMS are twice the number of male patients that receive SMS\n",
    "2. There are more Male patients that takes alcohol than female patients"
   ]
  },
  {
   "cell_type": "code",
   "execution_count": 140,
   "id": "f6401b85",
   "metadata": {},
   "outputs": [
    {
     "data": {
      "text/plain": [
       "8.852135677255331"
      ]
     },
     "execution_count": 140,
     "metadata": {},
     "output_type": "execute_result"
    }
   ],
   "source": [
    "#percentage of patients that received SMS and didn't show up for their apartment\n",
    "(df[(df['SMS_received'] == 1) & (df['No-show'] == 'Yes')].shape[0]/df.shape[0]) *100"
   ]
  },
  {
   "cell_type": "code",
   "execution_count": 144,
   "id": "195906ab",
   "metadata": {},
   "outputs": [
    {
     "data": {
      "text/plain": [
       "11.341120269255477"
      ]
     },
     "execution_count": 144,
     "metadata": {},
     "output_type": "execute_result"
    }
   ],
   "source": [
    "#percentage of patients that did not received SMS and didn't show up for their apartment\n",
    "(df[(df['SMS_received'] == 0) & (df['No-show'] == 'Yes')].shape[0]/df.shape[0]) *100"
   ]
  },
  {
   "cell_type": "code",
   "execution_count": 143,
   "id": "6fefef68",
   "metadata": {},
   "outputs": [
    {
     "data": {
      "text/plain": [
       "23.250427497353588"
      ]
     },
     "execution_count": 143,
     "metadata": {},
     "output_type": "execute_result"
    }
   ],
   "source": [
    "#percentage of patients that received SMS and showed up for their apartment\n",
    "(df[(df['SMS_received'] == 1) & (df['No-show'] == 'No')].shape[0]/df.shape[0]) *100"
   ]
  },
  {
   "cell_type": "code",
   "execution_count": 142,
   "id": "41cb712d",
   "metadata": {},
   "outputs": [
    {
     "data": {
      "text/plain": [
       "56.5563165561356"
      ]
     },
     "execution_count": 142,
     "metadata": {},
     "output_type": "execute_result"
    }
   ],
   "source": [
    "#percentage of patients that didn't receive SMS and  showed up for their apartment\n",
    "(df[(df['SMS_received'] == 0) & (df['No-show'] == 'No')].shape[0]/df.shape[0]) *100"
   ]
  },
  {
   "cell_type": "markdown",
   "id": "eebb33b4",
   "metadata": {},
   "source": [
    "$Conclusion$/\n",
    "\n",
    "Inorder to investigate the dataset, I cleaned the data, added new feature to the data (feature engineering)  and also compared attributes in the dataset with each other.\n",
    "\n",
    "My major findings are:\n",
    "\n",
    "1. The average age of patients is 37\n",
    "2. 25% of the patients are 18yeard, 50% are 37 years and 75% are 55 yearsFemale Gender misses their scheduled appointment than male\n",
    "3. There are more female patients than male patints in the dataset\n",
    "4. The hospital in JARDIM CAMBURI is mostly used by patients\n",
    "5. The month with highest set up of patients appointment is May\n",
    "6. Patients that uses hospital in JARDIM DA PENHA are patients with no scholarship\n",
    "7. Patients that uses hosipital located in MARIA ORTIZ, JARDIM DA PENHA and JARDIM CAMBURI are patients that don't take alcohol\n",
    "8. There are Male patients that takes alcohol than female patients\n",
    "9. 56.56% that didn't receive SMS go for their actual appointments with 9% of the patients who received SMS and still mised their appointment. \n",
    "10. Patients that missed their appointmments are mostly female\n",
    "\n",
    "\n",
    "for future work I would like to get do a geographocal analysis and check if patients tends not to miss their appointment if the hospital is close to their neighourhood. \n",
    "\n",
    "Why did most patient fix appointment with hospital in JARDIM CAMBURI neighbourhood.. is it that JARDIM CAMBURI has qualified doctors and ultra-mordern health facilities.\n",
    "\n",
    "Limitation:\n",
    "Finding the best way to handle the missing age, incase I would like to build a predictive model and removing dataset would like lead to loss of information for the model\n",
    "\n",
    "Data Imbalance: There are more female gender in the dataset which make most of the inside in the dataset be associated to female patients.\n"
   ]
  },
  {
   "cell_type": "code",
   "execution_count": null,
   "id": "a1daa754",
   "metadata": {},
   "outputs": [],
   "source": []
  }
 ],
 "metadata": {
  "kernelspec": {
   "display_name": "Python 3 (ipykernel)",
   "language": "python",
   "name": "python3"
  },
  "language_info": {
   "codemirror_mode": {
    "name": "ipython",
    "version": 3
   },
   "file_extension": ".py",
   "mimetype": "text/x-python",
   "name": "python",
   "nbconvert_exporter": "python",
   "pygments_lexer": "ipython3",
   "version": "3.9.7"
  }
 },
 "nbformat": 4,
 "nbformat_minor": 5
}
